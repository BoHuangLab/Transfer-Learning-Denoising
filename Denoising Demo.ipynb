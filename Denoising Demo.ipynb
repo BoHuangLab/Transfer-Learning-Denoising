{
 "cells": [
  {
   "cell_type": "markdown",
   "metadata": {},
   "source": [
    "# Use pre-trained model to denoise experimental lysosome image"
   ]
  },
  {
   "cell_type": "code",
   "execution_count": null,
   "metadata": {},
   "outputs": [],
   "source": [
    "import os\n",
    "import sys\n",
    "sys.path.append(\"..\")\n",
    "\n",
    "import torch\n",
    "import math\n",
    "import json\n",
    "import matplotlib.pyplot as plt\n",
    "import os.path\n",
    "import datetime\n",
    "import numpy as np\n",
    "\n",
    "from util import show, plot_images, plot_tensors, psnr\n",
    "from data_loader import tiff_loader, load_confocal\n",
    "\n",
    "from util import getbestgpu\n",
    "from models.unet import Unet\n",
    "from metric import frc, match_intensity, quantify, plot_quantifications\n",
    "from train import train"
   ]
  },
  {
   "cell_type": "code",
   "execution_count": null,
   "metadata": {},
   "outputs": [],
   "source": [
    "device = getbestgpu(1)"
   ]
  },
  {
   "cell_type": "code",
   "execution_count": null,
   "metadata": {},
   "outputs": [],
   "source": [
    "config = {\n",
    "    'sample_size_list' : [10],\n",
    "    'root' : '/Data/Confocal/Cropped',\n",
    "    'psignal_levels' : [i for i in range(10,51,5)], #[s for s in range(10,100,10)],\n",
    "    'types' : ['lysosome'], # ['DNA', 'lysosome', 'microtubule', 'mitochondria'],\n",
    "    'captures' : 1,\n",
    "    'train_stat' : True,\n",
    "    'patch_size' : 128,\n",
    "    'batch_size' : 32,\n",
    "    'n_iters' : 10000,\n",
    "    'repeats' : 0,\n",
    "    'metrics_key' : ['mse', 'ssmi', 'frc'],\n",
    "    'loss':'mse',\n",
    "    'Unet':{'up':'tconv'}\n",
    "}"
   ]
  },
  {
   "cell_type": "code",
   "execution_count": null,
   "metadata": {},
   "outputs": [],
   "source": [
    "for signal in config['psignal_levels']:\n",
    "    loader, dataset = load_confocal(config['root'], config['train_stat'], config['batch_size'], \n",
    "                                        [signal], config['sample_size_list'][0], split_ratio = 0, \n",
    "                                        types=config['types'], captures=config['captures'],\n",
    "                                        patch_size=config['patch_size'], loader=tiff_loader)\n",
    "    noisy = dataset[0]\n",
    "    clean = dataset[1]\n"
   ]
  },
  {
   "cell_type": "code",
   "execution_count": null,
   "metadata": {},
   "outputs": [],
   "source": [
    "FMD = {}\n",
    "random = {}\n",
    "simulation = {}\n",
    "\n",
    "for signal in config['psignal_levels']:\n",
    "    key_s = signal\n",
    "    FMD[key_s] = {}\n",
    "    random[key_s] = {}\n",
    "    simulation[key_s] = {}\n",
    "    \n",
    "    print(f\"Running training with {signal} peak signal level...\")\n",
    "    n_epoch = config['n_iters']\n",
    "    \n",
    "    for repeat in range(config['repeats']):\n",
    "        print(f\"No. {repeat}...\")\n",
    "        loader, dataset = load_confocal(config['root'], config['train_stat'], config['batch_size'], \n",
    "                                        [signal], config['sample_size_list'][0], split_ratio = 0.2, \n",
    "                                        types=config['types'], captures=config['captures'],\n",
    "                                        patch_size=config['patch_size'], loader=tiff_loader)\n",
    "        noisy = dataset[0]\n",
    "        clean = dataset[1]\n",
    "        noisy, clean = noisy.type(torch.FloatTensor).to(device), clean.type(torch.FloatTensor).to(device)\n",
    "\n",
    "        model_random = Unet(**config['Unet'])\n",
    "        model_FMD = Unet(**config['Unet'])\n",
    "        model_simulation = Unet(**config['Unet'])\n",
    "\n",
    "        model_FMD.load_state_dict(torch.load('./trained_models/FMD_epoch50_model'))\n",
    "        model_simulation.load_state_dict(torch.load('./trained_models/MT_simulation_iter1000_model_trained'))\n",
    "\n",
    "        optimizer_random = Adam(model_random.parameters(), lr=0.001)\n",
    "        optimizer_FMD = Adam(model_FMD.parameters(), lr=0.0001)\n",
    "        optimizer_simulation = Adam(model_simulation.parameters(), lr=0.0001)\n",
    "\n",
    "        model_random = model_random.to(device)\n",
    "        model_FMD = model_FMD.to(device)\n",
    "        model_simulation = model_simulation.to(device)\n",
    "\n",
    "\n",
    "        output_FMD = model_FMD(noisy)\n",
    "        output_random = model_random(noisy)\n",
    "        output_simulation = model_simulation(noisy)\n",
    "        \n",
    "        # plot example images\n",
    "        if repeat == 0:\n",
    "            nplot = 1\n",
    "            plot_tensors([noisy[nplot,0,:], clean[nplot,0,:], output_random[nplot,0,:], output_FMD[nplot,0,:], output_simulation[nplot,0,:]])\n",
    "\n",
    "        output_FMD = output_FMD.cpu().detach().numpy()\n",
    "        output_random = output_random.cpu().detach().numpy()\n",
    "        output_simulation = output_simulation.cpu().detach().numpy()\n",
    "        noisy = noisy.cpu().detach().numpy()\n",
    "        clean = clean.cpu().detach().numpy()\n",
    "        \n",
    "        if repeat == 0 and True:\n",
    "            frc_FMD, spatial_freq = frc(output_FMD[0,0,:], clean[0,0,:])\n",
    "            frc_simulation, spatial_freq = frc(output_simulation[0,0,:], clean[0,0,:])\n",
    "            frc_random, spatial_freq = frc(output_random[0,0,:], clean[0,0,:])\n",
    "            plt.figure()\n",
    "            plt.plot( spatial_freq , frc_FMD , '-' , linewidth=2 , color='red' , label='Pretrained with FMD' )\n",
    "            plt.plot( spatial_freq , frc_simulation , '-' , linewidth=2 , color='blue' , label='Pretrained with simulation' )\n",
    "            plt.plot( spatial_freq , frc_random , '-' , linewidth=2 , color='green' , label='Random initialization' )\n",
    "            plt.legend(loc='lower left')\n",
    "            plt.title('FRC curve')\n",
    "\n",
    "        for sample in range(config['sample_size_list'][0]):\n",
    "            output_random[sample,:] = match_intensity(clean[sample,:], output_random[sample,:])\n",
    "            output_FMD[sample,:] = match_intensity(clean[sample,:], output_FMD[sample,:])\n",
    "            output_simulation[sample,:] = match_intensity(clean[sample,:], output_simulation[sample,:])\n",
    "\n",
    "        #quantify(FMD[key_s], config['metrics_key'], clean[0,0, :], output_FMD[0,0,:])\n",
    "        #quantify(simulation[key_s], config['metrics_key'], clean[0,0, :], output_simulation[0,0,:])\n",
    "        #quantify(random[key_s], config['metrics_key'], clean[0,0, :], output_random[0,0,:])"
   ]
  }
 ],
 "metadata": {
  "kernelspec": {
   "display_name": "Python 3",
   "language": "python",
   "name": "python3"
  },
  "language_info": {
   "codemirror_mode": {
    "name": "ipython",
    "version": 3
   },
   "file_extension": ".py",
   "mimetype": "text/x-python",
   "name": "python",
   "nbconvert_exporter": "python",
   "pygments_lexer": "ipython3",
   "version": "3.8.5"
  }
 },
 "nbformat": 4,
 "nbformat_minor": 4
}
